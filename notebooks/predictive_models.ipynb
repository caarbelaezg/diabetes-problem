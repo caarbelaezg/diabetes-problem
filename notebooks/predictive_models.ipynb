{
 "cells": [
  {
   "cell_type": "markdown",
   "source": [
    "# Prediction of clinical readmissions in patients with diabetes\n",
    "\n",
    "**Name:** Carlos Alberto Arbelaez Giraldo\n",
    "\n",
    "**ID:** 1017212109\n",
    "\n",
    "**e-mail:** carlos.arbelaezg@udea.edu.co\n",
    "\n",
    "-------------------------------------------------------\n",
    "**Name:** Santiago Velásquez \n",
    "\n",
    "**ID:**  1036647710\n",
    "\n",
    "**e-mail:** santiago.velasquez4@udea.edu.co\n",
    "\n",
    "\n",
    "\n",
    "### Problem description\n",
    "\n",
    "It is important to know if a patient will be readmitted in some hospital. The reason is that you can change the treatment, in order to avoid a readmission.\n",
    "\n",
    "In this database, you have 3 different outputs:\n",
    "\n",
    "1. No readmission;\n",
    "2. A readmission in less than 30 days (this situation is not good, because maybe your treatment was not appropriate);\n",
    "3. A readmission in more than 30 days (this one is not so good as well the last one, however, the reason can be the state of the patient.\n",
    "\n",
    "### Source\n",
    "\n",
    "The data are submitted on behalf of the Center for Clinical and Translational Research, Virginia Commonwealth University, a recipient of NIH CTSA grant UL1 TR00058 and a recipient of the CERNER data. John Clore (jclore '@' vcu.edu), Krzysztof J. Cios (kcios '@' vcu.edu), Jon DeShazo (jpdeshazo '@' vcu.edu), and Beata Strack (strackb '@' vcu.edu). This data is a de-identified abstract of the Health Facts database (Cerner Corporation, Kansas City, MO).\n",
    "\n",
    "### Kaggle Link\n",
    "\n",
    "https://www.kaggle.com/brandao/diabetes"
   ],
   "metadata": {}
  },
  {
   "cell_type": "markdown",
   "source": [
    "# 1. Imports and configurations"
   ],
   "metadata": {}
  },
  {
   "cell_type": "code",
   "execution_count": 1,
   "source": [
    "import pandas as pd\n",
    "import numpy as np\n",
    "\n",
    "from sklearn.model_selection import train_test_split\n",
    "from sklearn.model_selection import cross_val_score\n",
    "from sklearn.model_selection import GridSearchCV\n",
    "\n",
    "from sklearn.metrics import f1_score\n",
    "from sklearn.metrics import recall_score\n",
    "from sklearn.metrics import accuracy_score\n",
    "from sklearn.metrics import plot_roc_curve\n",
    "from sklearn.metrics import confusion_matrix\n",
    "\n",
    "from sklearn.svm import SVC\n",
    "from sklearn.pipeline import Pipeline\n",
    "from sklearn.impute import SimpleImputer\n",
    "from sklearn.compose import ColumnTransformer\n",
    "from sklearn.tree import DecisionTreeClassifier\n",
    "from sklearn.ensemble import RandomForestClassifier\n",
    "from sklearn.linear_model import LogisticRegression\n",
    "from sklearn.preprocessing import MinMaxScaler, OneHotEncoder\n",
    "\n",
    "import xgboost as xgb\n",
    "\n",
    "import matplotlib.pyplot as plt\n",
    "\n",
    "import pickle\n",
    "import warnings\n",
    "\n",
    "warnings.simplefilter('ignore')"
   ],
   "outputs": [],
   "metadata": {}
  },
  {
   "cell_type": "code",
   "execution_count": 2,
   "source": [
    "df = pd.read_csv('../data/processed/cleanData.csv', index_col=[0])"
   ],
   "outputs": [],
   "metadata": {}
  },
  {
   "cell_type": "code",
   "execution_count": 3,
   "source": [
    "cat_features = ['race', 'gender', 'discharge_disposition_id', 'admission_source_id',\n",
    "                'medical_specialty', 'diag_1', 'diag_2', 'diag_3', 'max_glu_serum',\n",
    "                'A1Cresult', 'metformin', 'glimepiride', 'glipizide', 'glyburide',\n",
    "                'pioglitazone', 'rosiglitazone', 'insulin', 'change', 'diabetesMed']\n",
    "\n",
    "num_features = ['age', 'time_in_hospital', 'num_medications', 'number_outpatient',\n",
    "                'number_emergency', 'number_inpatient', 'requests_1', 'requests_10']\n",
    "\n",
    "y = ['readmitted']\n",
    "\n",
    "X = cat_features + num_features"
   ],
   "outputs": [],
   "metadata": {}
  },
  {
   "cell_type": "code",
   "execution_count": 4,
   "source": [
    "X_train, X_test, y_train, y_test = train_test_split(df[X], df[y], test_size=0.30, random_state=27)"
   ],
   "outputs": [],
   "metadata": {}
  },
  {
   "cell_type": "code",
   "execution_count": 5,
   "source": [
    "X_test.to_csv('../data/processed/X_test.csv')\n",
    "y_test.to_csv('../data/processed/y_test.csv')"
   ],
   "outputs": [],
   "metadata": {}
  },
  {
   "cell_type": "markdown",
   "source": [
    "##### **Note**: \n",
    "\n",
    "Although we'll use algorithms for predictive models where it's not necessary to scalate the features, it could be necessary for further work, for example, for regularization, optimization or if eventually I want to compare another algorithms where it's necessary to normalize the numeric features. So I always consider that is a good thing implement an scaler on the pipelines as a preprocessor."
   ],
   "metadata": {}
  },
  {
   "cell_type": "code",
   "execution_count": 6,
   "source": [
    "numeric_transformer = Pipeline(steps = [\n",
    "    ('imputer', SimpleImputer(strategy='median')),\n",
    "    ('scaler', MinMaxScaler())])\n",
    "\n",
    "categorical_transformer = Pipeline(steps = [\n",
    "    ('imputer', SimpleImputer(strategy='most_frequent')),\n",
    "    ('encoder', OneHotEncoder(handle_unknown='ignore'))\n",
    "])\n",
    "\n",
    "preprocessor = ColumnTransformer(\n",
    "    transformers = [\n",
    "        ('num', numeric_transformer, num_features),\n",
    "        ('cat', categorical_transformer, cat_features)])"
   ],
   "outputs": [],
   "metadata": {}
  },
  {
   "cell_type": "code",
   "execution_count": 7,
   "source": [
    "def metrics(y_test, y_pred):\n",
    "    '''Generate f1, recall, accuracy and the confusion matrix for y_test / y_pred'''\n",
    "    f1 = f1_score(y_test,y_pred)\n",
    "    rec = recall_score(y_test,y_pred)\n",
    "    acc = accuracy_score(y_test,y_pred)\n",
    "    cm = confusion_matrix(y_test, y_pred)\n",
    "\n",
    "    return f1, rec, acc, cm"
   ],
   "outputs": [],
   "metadata": {}
  },
  {
   "cell_type": "markdown",
   "source": [
    "## Logistic Regresion"
   ],
   "metadata": {}
  },
  {
   "cell_type": "code",
   "execution_count": 8,
   "source": [
    "lr1 = Pipeline(steps=[('preprocessor', preprocessor), ('classifier', LogisticRegression())])\n",
    "\n",
    "lr1.fit(X_train,y_train)"
   ],
   "outputs": [
    {
     "output_type": "execute_result",
     "data": {
      "text/plain": [
       "Pipeline(steps=[('preprocessor',\n",
       "                 ColumnTransformer(transformers=[('num',\n",
       "                                                  Pipeline(steps=[('imputer',\n",
       "                                                                   SimpleImputer(strategy='median')),\n",
       "                                                                  ('scaler',\n",
       "                                                                   MinMaxScaler())]),\n",
       "                                                  ['age', 'time_in_hospital',\n",
       "                                                   'num_medications',\n",
       "                                                   'number_outpatient',\n",
       "                                                   'number_emergency',\n",
       "                                                   'number_inpatient',\n",
       "                                                   'requests_1',\n",
       "                                                   'requests_10']),\n",
       "                                                 ('cat',\n",
       "                                                  Pipeline(steps=[('imputer',\n",
       "                                                                   SimpleImputer(strategy='m...\n",
       "                                                                  ('encoder',\n",
       "                                                                   OneHotEncoder(handle_unknown='ignore'))]),\n",
       "                                                  ['race', 'gender',\n",
       "                                                   'discharge_disposition_id',\n",
       "                                                   'admission_source_id',\n",
       "                                                   'medical_specialty',\n",
       "                                                   'diag_1', 'diag_2', 'diag_3',\n",
       "                                                   'max_glu_serum', 'A1Cresult',\n",
       "                                                   'metformin', 'glimepiride',\n",
       "                                                   'glipizide', 'glyburide',\n",
       "                                                   'pioglitazone',\n",
       "                                                   'rosiglitazone', 'insulin',\n",
       "                                                   'change',\n",
       "                                                   'diabetesMed'])])),\n",
       "                ('classifier', LogisticRegression())])"
      ]
     },
     "metadata": {},
     "execution_count": 8
    }
   ],
   "metadata": {}
  },
  {
   "cell_type": "code",
   "execution_count": 9,
   "source": [
    "with open('../models/lr.pkl', 'wb') as file:\n",
    "    pickle.dump(lr1, file)"
   ],
   "outputs": [],
   "metadata": {
    "scrolled": false
   }
  },
  {
   "cell_type": "code",
   "execution_count": 10,
   "source": [
    "y_pred = lr1.predict(X_test)\n",
    "lr_f1, lr_rec, lr_acc, lr_cm = metrics(y_test, y_pred)"
   ],
   "outputs": [],
   "metadata": {}
  },
  {
   "cell_type": "markdown",
   "source": [
    "## Random Forest Classifier"
   ],
   "metadata": {}
  },
  {
   "cell_type": "code",
   "execution_count": 11,
   "source": [
    "rf1 = Pipeline(steps=[('preprocessor', preprocessor), ('classifier', RandomForestClassifier())])\n",
    "rf1.fit(X_train,y_train)"
   ],
   "outputs": [
    {
     "output_type": "execute_result",
     "data": {
      "text/plain": [
       "Pipeline(steps=[('preprocessor',\n",
       "                 ColumnTransformer(transformers=[('num',\n",
       "                                                  Pipeline(steps=[('imputer',\n",
       "                                                                   SimpleImputer(strategy='median')),\n",
       "                                                                  ('scaler',\n",
       "                                                                   MinMaxScaler())]),\n",
       "                                                  ['age', 'time_in_hospital',\n",
       "                                                   'num_medications',\n",
       "                                                   'number_outpatient',\n",
       "                                                   'number_emergency',\n",
       "                                                   'number_inpatient',\n",
       "                                                   'requests_1',\n",
       "                                                   'requests_10']),\n",
       "                                                 ('cat',\n",
       "                                                  Pipeline(steps=[('imputer',\n",
       "                                                                   SimpleImputer(strategy='m...\n",
       "                                                                  ('encoder',\n",
       "                                                                   OneHotEncoder(handle_unknown='ignore'))]),\n",
       "                                                  ['race', 'gender',\n",
       "                                                   'discharge_disposition_id',\n",
       "                                                   'admission_source_id',\n",
       "                                                   'medical_specialty',\n",
       "                                                   'diag_1', 'diag_2', 'diag_3',\n",
       "                                                   'max_glu_serum', 'A1Cresult',\n",
       "                                                   'metformin', 'glimepiride',\n",
       "                                                   'glipizide', 'glyburide',\n",
       "                                                   'pioglitazone',\n",
       "                                                   'rosiglitazone', 'insulin',\n",
       "                                                   'change',\n",
       "                                                   'diabetesMed'])])),\n",
       "                ('classifier', RandomForestClassifier())])"
      ]
     },
     "metadata": {},
     "execution_count": 11
    }
   ],
   "metadata": {}
  },
  {
   "cell_type": "code",
   "execution_count": 12,
   "source": [
    "with open('../models/rf.pkl', 'wb') as file:\n",
    "    pickle.dump(rf1, file)"
   ],
   "outputs": [],
   "metadata": {}
  },
  {
   "cell_type": "code",
   "execution_count": 13,
   "source": [
    "y_pred = rf1.predict(X_test)\n",
    "rf_f1, rf_rec, rf_acc, rf_cm = metrics(y_test, y_pred)"
   ],
   "outputs": [],
   "metadata": {}
  },
  {
   "cell_type": "code",
   "execution_count": 14,
   "source": [
    "fi = list(zip(X_train.columns.values, rf1.steps[1][1].feature_importances_))\n",
    "\n",
    "pd.DataFrame(columns = ['feature', 'importance'], data = fi).plot.barh(x='feature', y='importance')"
   ],
   "outputs": [
    {
     "output_type": "execute_result",
     "data": {
      "text/plain": [
       "<AxesSubplot:ylabel='feature'>"
      ]
     },
     "metadata": {},
     "execution_count": 14
    },
    {
     "output_type": "display_data",
     "data": {
      "image/png": "[encoded data removed]",
      "text/plain": [
       "<Figure size 432x288 with 1 Axes>"
      ]
     },
     "metadata": {
      "needs_background": "light"
     }
    }
   ],
   "metadata": {}
  },
  {
   "cell_type": "markdown",
   "source": [
    "## Decision Tree"
   ],
   "metadata": {}
  },
  {
   "cell_type": "code",
   "execution_count": 15,
   "source": [
    "dt1 = Pipeline(steps=[('preprocessor', preprocessor), ('classifier', DecisionTreeClassifier())])\n",
    "dt1.fit(X_train,y_train)"
   ],
   "outputs": [
    {
     "output_type": "execute_result",
     "data": {
      "text/plain": [
       "Pipeline(steps=[('preprocessor',\n",
       "                 ColumnTransformer(transformers=[('num',\n",
       "                                                  Pipeline(steps=[('imputer',\n",
       "                                                                   SimpleImputer(strategy='median')),\n",
       "                                                                  ('scaler',\n",
       "                                                                   MinMaxScaler())]),\n",
       "                                                  ['age', 'time_in_hospital',\n",
       "                                                   'num_medications',\n",
       "                                                   'number_outpatient',\n",
       "                                                   'number_emergency',\n",
       "                                                   'number_inpatient',\n",
       "                                                   'requests_1',\n",
       "                                                   'requests_10']),\n",
       "                                                 ('cat',\n",
       "                                                  Pipeline(steps=[('imputer',\n",
       "                                                                   SimpleImputer(strategy='m...\n",
       "                                                                  ('encoder',\n",
       "                                                                   OneHotEncoder(handle_unknown='ignore'))]),\n",
       "                                                  ['race', 'gender',\n",
       "                                                   'discharge_disposition_id',\n",
       "                                                   'admission_source_id',\n",
       "                                                   'medical_specialty',\n",
       "                                                   'diag_1', 'diag_2', 'diag_3',\n",
       "                                                   'max_glu_serum', 'A1Cresult',\n",
       "                                                   'metformin', 'glimepiride',\n",
       "                                                   'glipizide', 'glyburide',\n",
       "                                                   'pioglitazone',\n",
       "                                                   'rosiglitazone', 'insulin',\n",
       "                                                   'change',\n",
       "                                                   'diabetesMed'])])),\n",
       "                ('classifier', DecisionTreeClassifier())])"
      ]
     },
     "metadata": {},
     "execution_count": 15
    }
   ],
   "metadata": {}
  },
  {
   "cell_type": "code",
   "execution_count": 16,
   "source": [
    "with open('../models/dt.pkl', 'wb') as file:\n",
    "    pickle.dump(dt1, file)"
   ],
   "outputs": [],
   "metadata": {}
  },
  {
   "cell_type": "code",
   "execution_count": 17,
   "source": [
    "y_pred = dt1.predict(X_test)\n",
    "dt_f1, dt_rec, dt_acc, dt_cm = metrics(y_test, y_pred)"
   ],
   "outputs": [],
   "metadata": {}
  },
  {
   "cell_type": "code",
   "execution_count": 18,
   "source": [
    "fi = list(zip(X_train.columns.values, dt1.steps[1][1].feature_importances_))\n",
    "pd.DataFrame(columns = ['feature', 'importance'], data = fi).plot.barh(x='feature', y='importance')"
   ],
   "outputs": [
    {
     "output_type": "execute_result",
     "data": {
      "text/plain": [
       "<AxesSubplot:ylabel='feature'>"
      ]
     },
     "metadata": {},
     "execution_count": 18
    },
    {
     "output_type": "display_data",
     "data": {
      "image/png": "[encoded data removed]",
      "text/plain": [
       "<Figure size 432x288 with 1 Axes>"
      ]
     },
     "metadata": {
      "needs_background": "light"
     }
    }
   ],
   "metadata": {}
  },
  {
   "cell_type": "markdown",
   "source": [
    "### XGBoost"
   ],
   "metadata": {}
  },
  {
   "cell_type": "code",
   "execution_count": 19,
   "source": [
    "xgb_pipeline = Pipeline(steps=[('preprocessor', preprocessor), ('xgb_model', xgb.XGBClassifier())])\n",
    "xgb_pipeline.fit(X_train,y_train)"
   ],
   "outputs": [
    {
     "output_type": "stream",
     "name": "stdout",
     "text": [
      "[13:23:53] WARNING: C:/Users/Administrator/workspace/xgboost-win64_release_1.4.0/src/learner.cc:1095: Starting in XGBoost 1.3.0, the default evaluation metric used with the objective 'binary:logistic' was changed from 'error' to 'logloss'. Explicitly set eval_metric if you'd like to restore the old behavior.\n"
     ]
    },
    {
     "output_type": "execute_result",
     "data": {
      "text/plain": [
       "Pipeline(steps=[('preprocessor',\n",
       "                 ColumnTransformer(transformers=[('num',\n",
       "                                                  Pipeline(steps=[('imputer',\n",
       "                                                                   SimpleImputer(strategy='median')),\n",
       "                                                                  ('scaler',\n",
       "                                                                   MinMaxScaler())]),\n",
       "                                                  ['age', 'time_in_hospital',\n",
       "                                                   'num_medications',\n",
       "                                                   'number_outpatient',\n",
       "                                                   'number_emergency',\n",
       "                                                   'number_inpatient',\n",
       "                                                   'requests_1',\n",
       "                                                   'requests_10']),\n",
       "                                                 ('cat',\n",
       "                                                  Pipeline(steps=[('imputer',\n",
       "                                                                   SimpleImputer(strategy='m...\n",
       "                               colsample_bytree=1, gamma=0, gpu_id=-1,\n",
       "                               importance_type='gain',\n",
       "                               interaction_constraints='',\n",
       "                               learning_rate=0.300000012, max_delta_step=0,\n",
       "                               max_depth=6, min_child_weight=1, missing=nan,\n",
       "                               monotone_constraints='()', n_estimators=100,\n",
       "                               n_jobs=8, num_parallel_tree=1, random_state=0,\n",
       "                               reg_alpha=0, reg_lambda=1, scale_pos_weight=1,\n",
       "                               subsample=1, tree_method='exact',\n",
       "                               validate_parameters=1, verbosity=None))])"
      ]
     },
     "metadata": {},
     "execution_count": 19
    }
   ],
   "metadata": {}
  },
  {
   "cell_type": "code",
   "execution_count": 20,
   "source": [
    "with open('../models/dt.pkl', 'wb') as file:\n",
    "    pickle.dump(xgb_pipeline, file)"
   ],
   "outputs": [],
   "metadata": {}
  },
  {
   "cell_type": "code",
   "execution_count": 21,
   "source": [
    "y_pred = xgb_pipeline.predict(X_test)\n",
    "xgb_f1, xgb_rec, xgb_acc, xgb_cm = metrics(y_test, y_pred)"
   ],
   "outputs": [],
   "metadata": {}
  },
  {
   "cell_type": "code",
   "execution_count": 22,
   "source": [
    "fi = list(zip(X_train.columns.values, xgb_pipeline.steps[1][1].feature_importances_))\r\n",
    "pd.DataFrame(columns = ['feature', 'importance'], data = fi).plot.barh(x='feature', y='importance')"
   ],
   "outputs": [
    {
     "output_type": "execute_result",
     "data": {
      "text/plain": [
       "<AxesSubplot:ylabel='feature'>"
      ]
     },
     "metadata": {},
     "execution_count": 22
    },
    {
     "output_type": "display_data",
     "data": {
      "image/png": "[encoded data removed]",
      "text/plain": [
       "<Figure size 432x288 with 1 Axes>"
      ]
     },
     "metadata": {
      "needs_background": "light"
     }
    }
   ],
   "metadata": {}
  },
  {
   "cell_type": "markdown",
   "source": [
    "## Comparison of the models"
   ],
   "metadata": {}
  },
  {
   "cell_type": "code",
   "execution_count": 23,
   "source": [
    "data = {'Model': ['LogisticRegression', 'RandomForest', 'Decision Tree', 'XGB'],\r\n",
    "        'Accuracy': [lr_acc, rf_acc, dt_acc, xgb_acc], \r\n",
    "        'Recall': [lr_rec, rf_rec, dt_rec, xgb_rec], \r\n",
    "        'F1': [lr_f1, rf_f1, dt_f1, xgb_f1]}\r\n",
    "comp = pd.DataFrame(data)\r\n",
    "comp"
   ],
   "outputs": [
    {
     "output_type": "execute_result",
     "data": {
      "text/html": [
       "<div>\n",
       "<style scoped>\n",
       "    .dataframe tbody tr th:only-of-type {\n",
       "        vertical-align: middle;\n",
       "    }\n",
       "\n",
       "    .dataframe tbody tr th {\n",
       "        vertical-align: top;\n",
       "    }\n",
       "\n",
       "    .dataframe thead th {\n",
       "        text-align: right;\n",
       "    }\n",
       "</style>\n",
       "<table border=\"1\" class=\"dataframe\">\n",
       "  <thead>\n",
       "    <tr style=\"text-align: right;\">\n",
       "      <th></th>\n",
       "      <th>Model</th>\n",
       "      <th>Accuracy</th>\n",
       "      <th>Recall</th>\n",
       "      <th>F1</th>\n",
       "    </tr>\n",
       "  </thead>\n",
       "  <tbody>\n",
       "    <tr>\n",
       "      <th>0</th>\n",
       "      <td>LogisticRegression</td>\n",
       "      <td>0.750952</td>\n",
       "      <td>0.617468</td>\n",
       "      <td>0.698964</td>\n",
       "    </tr>\n",
       "    <tr>\n",
       "      <th>1</th>\n",
       "      <td>RandomForest</td>\n",
       "      <td>0.796675</td>\n",
       "      <td>0.747786</td>\n",
       "      <td>0.774990</td>\n",
       "    </tr>\n",
       "    <tr>\n",
       "      <th>2</th>\n",
       "      <td>Decision Tree</td>\n",
       "      <td>0.730963</td>\n",
       "      <td>0.700958</td>\n",
       "      <td>0.709301</td>\n",
       "    </tr>\n",
       "    <tr>\n",
       "      <th>3</th>\n",
       "      <td>XGB</td>\n",
       "      <td>0.807112</td>\n",
       "      <td>0.717293</td>\n",
       "      <td>0.776913</td>\n",
       "    </tr>\n",
       "  </tbody>\n",
       "</table>\n",
       "</div>"
      ],
      "text/plain": [
       "                Model  Accuracy    Recall        F1\n",
       "0  LogisticRegression  0.750952  0.617468  0.698964\n",
       "1        RandomForest  0.796675  0.747786  0.774990\n",
       "2       Decision Tree  0.730963  0.700958  0.709301\n",
       "3                 XGB  0.807112  0.717293  0.776913"
      ]
     },
     "metadata": {},
     "execution_count": 23
    }
   ],
   "metadata": {}
  },
  {
   "cell_type": "code",
   "execution_count": 29,
   "source": [
    "plot_roc_curve(lr1, X_test, y_test)\r\n",
    "plot_roc_curve(rf1, X_test, y_test)\r\n",
    "plot_roc_curve(dt1, X_test, y_test)\r\n",
    "plot_roc_curve(xgb_pipeline, X_test, y_test)"
   ],
   "outputs": [
    {
     "output_type": "execute_result",
     "data": {
      "text/plain": [
       "<sklearn.metrics._plot.roc_curve.RocCurveDisplay at 0x2030a02a6d0>"
      ]
     },
     "metadata": {},
     "execution_count": 29
    },
    {
     "output_type": "display_data",
     "data": {
      "image/png": "[encoded data removed]",
      "text/plain": [
       "<Figure size 432x288 with 1 Axes>"
      ]
     },
     "metadata": {
      "needs_background": "light"
     }
    },
    {
     "output_type": "display_data",
     "data": {
      "image/png": "[encoded data removed]",
      "text/plain": [
       "<Figure size 432x288 with 1 Axes>"
      ]
     },
     "metadata": {
      "needs_background": "light"
     }
    },
    {
     "output_type": "display_data",
     "data": {
      "image/png": "[encoded data removed]",
      "text/plain": [
       "<Figure size 432x288 with 1 Axes>"
      ]
     },
     "metadata": {
      "needs_background": "light"
     }
    },
    {
     "output_type": "display_data",
     "data": {
      "image/png": "[encoded data removed]",
      "text/plain": [
       "<Figure size 432x288 with 1 Axes>"
      ]
     },
     "metadata": {
      "needs_background": "light"
     }
    }
   ],
   "metadata": {}
  },
  {
   "cell_type": "markdown",
   "source": [
    "#### Conclusion: The best of the proposed model for comparison was the Random Forest Classifier. It was the best on the overall metrics, but also it has the best ROC Curve and the best numbers on the confusion matrix. I'll select this model to perform hyperparameter tunning."
   ],
   "metadata": {}
  },
  {
   "cell_type": "markdown",
   "source": [
    "## Hyperparameter tunning"
   ],
   "metadata": {}
  },
  {
   "cell_type": "code",
   "execution_count": 25,
   "source": [
    "#parameters = {\r\n",
    "#  'n_estimators':[1, 10, 100, 1000],\r\n",
    "#  'min_samples_split': [2, 3, 4, 5]\r\n",
    "#  }\r\n",
    "\r\n",
    "#rf2 = Pipeline(steps=[('preprocessor', preprocessor),\r\n",
    "#                      ('classifier', GridSearchCV(RandomForestClassifier(), parameters, cv=2, refit=True))])\r\n",
    "\r\n",
    "#rf2.fit(X_train,y_train) "
   ],
   "outputs": [],
   "metadata": {}
  },
  {
   "cell_type": "code",
   "execution_count": 26,
   "source": [
    "#y_pred = rf2.predict(X_test)\r\n",
    "#rf2_f1, rf2_rec, rf2_acc, rf2_cm = metrics(y_test, y_pred)"
   ],
   "outputs": [],
   "metadata": {}
  },
  {
   "cell_type": "code",
   "execution_count": 27,
   "source": [
    "#data = {'Model':['Best RF'],\r\n",
    "#        'Accuracy':[rf2_acc], \r\n",
    "#        'Recall':[rf2_rec], \r\n",
    "#        'F1':[rf2_f1]}\r\n",
    "#\r\n",
    "#pd.DataFrame(data)"
   ],
   "outputs": [],
   "metadata": {}
  },
  {
   "cell_type": "code",
   "execution_count": 28,
   "source": [
    "#import joblib\r\n",
    "\r\n",
    "#joblib.dump(rf2,'../models/best.pkl')"
   ],
   "outputs": [],
   "metadata": {}
  },
  {
   "cell_type": "code",
   "execution_count": null,
   "source": [],
   "outputs": [],
   "metadata": {}
  },
  {
   "cell_type": "code",
   "execution_count": null,
   "source": [],
   "outputs": [],
   "metadata": {}
  },
  {
   "cell_type": "code",
   "execution_count": null,
   "source": [],
   "outputs": [],
   "metadata": {}
  }
 ],
 "metadata": {
  "interpreter": {
   "hash": "ec6416b54afbcc36206f698715295a86719eb7874e6d5a689f374b4df672edf6"
  },
  "kernelspec": {
   "display_name": "Python 3",
   "language": "python",
   "name": "python3"
  },
  "language_info": {
   "codemirror_mode": {
    "name": "ipython",
    "version": 3
   },
   "file_extension": ".py",
   "mimetype": "text/x-python",
   "name": "python",
   "nbconvert_exporter": "python",
   "pygments_lexer": "ipython3",
   "version": "3.8.5"
  }
 },
 "nbformat": 4,
 "nbformat_minor": 2
}