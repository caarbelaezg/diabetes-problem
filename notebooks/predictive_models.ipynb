{
 "cells": [
  {
   "cell_type": "markdown",
   "source": [
    "# Prediction of clinical readmissions in patients with diabetes\n",
    "\n",
    "**Name:** Carlos Alberto Arbelaez Giraldo\n",
    "\n",
    "**ID:** 1017212109\n",
    "\n",
    "**e-mail:** carlos.arbelaezg@udea.edu.co\n",
    "\n",
    "-------------------------------------------------------\n",
    "**Name:** Santiago Velásquez \n",
    "\n",
    "**ID:**  1036647710\n",
    "\n",
    "**e-mail:** santiago.velasquez4@udea.edu.co\n",
    "\n",
    "\n",
    "\n",
    "### Problem description\n",
    "\n",
    "It is important to know if a patient will be readmitted in some hospital. The reason is that you can change the treatment, in order to avoid a readmission.\n",
    "\n",
    "In this database, you have 3 different outputs:\n",
    "\n",
    "1. No readmission;\n",
    "2. A readmission in less than 30 days (this situation is not good, because maybe your treatment was not appropriate);\n",
    "3. A readmission in more than 30 days (this one is not so good as well the last one, however, the reason can be the state of the patient.\n",
    "\n",
    "### Source\n",
    "\n",
    "The data are submitted on behalf of the Center for Clinical and Translational Research, Virginia Commonwealth University, a recipient of NIH CTSA grant UL1 TR00058 and a recipient of the CERNER data. John Clore (jclore '@' vcu.edu), Krzysztof J. Cios (kcios '@' vcu.edu), Jon DeShazo (jpdeshazo '@' vcu.edu), and Beata Strack (strackb '@' vcu.edu). This data is a de-identified abstract of the Health Facts database (Cerner Corporation, Kansas City, MO).\n",
    "\n",
    "### Kaggle Link\n",
    "\n",
    "https://www.kaggle.com/brandao/diabetes"
   ],
   "metadata": {}
  },
  {
   "cell_type": "markdown",
   "source": [
    "# 1. Imports and configurations"
   ],
   "metadata": {}
  },
  {
   "cell_type": "code",
   "execution_count": 5,
   "source": [
    "import pandas as pd\r\n",
    "import numpy as np\r\n",
    "import joblib\r\n",
    "import os\r\n",
    "\r\n",
    "from sklearn.model_selection import train_test_split\r\n",
    "from sklearn.model_selection import cross_val_score\r\n",
    "from sklearn.model_selection import GridSearchCV\r\n",
    "\r\n",
    "from sklearn.metrics import f1_score\r\n",
    "from sklearn.metrics import recall_score\r\n",
    "from sklearn.metrics import accuracy_score\r\n",
    "from sklearn.metrics import plot_roc_curve\r\n",
    "from sklearn.metrics import confusion_matrix\r\n",
    "\r\n",
    "from sklearn.svm import SVC\r\n",
    "from sklearn.pipeline import Pipeline\r\n",
    "from sklearn.impute import SimpleImputer\r\n",
    "from sklearn.compose import ColumnTransformer\r\n",
    "from sklearn.tree import DecisionTreeClassifier\r\n",
    "from sklearn.ensemble import RandomForestClassifier\r\n",
    "from sklearn.linear_model import LogisticRegression\r\n",
    "from sklearn.preprocessing import MinMaxScaler, OneHotEncoder\r\n",
    "\r\n",
    "from keras.models import Sequential\r\n",
    "from keras.layers import Dense\r\n",
    "from keras.wrappers.scikit_learn import KerasClassifier\r\n",
    "\r\n",
    "from sklearn.neural_network import MLPClassifier\r\n",
    "\r\n",
    "import xgboost as xgb\r\n",
    "\r\n",
    "import matplotlib.pyplot as plt\r\n",
    "\r\n",
    "import pickle\r\n",
    "import warnings\r\n",
    "\r\n",
    "warnings.simplefilter('ignore')"
   ],
   "outputs": [],
   "metadata": {}
  },
  {
   "cell_type": "code",
   "execution_count": 6,
   "source": [
    "df = pd.read_csv('../data/processed/cleanData.csv', index_col=[0])"
   ],
   "outputs": [],
   "metadata": {}
  },
  {
   "cell_type": "code",
   "execution_count": 26,
   "source": [
    "cat_features = ['race', 'gender', 'discharge_disposition_id', 'admission_source_id',\r\n",
    "                'medical_specialty', 'diag_1', 'diag_2', 'diag_3', 'max_glu_serum',\r\n",
    "                'A1Cresult', 'metformin', 'glimepiride', 'glipizide', 'glyburide',\r\n",
    "                'pioglitazone', 'rosiglitazone', 'insulin', 'change', 'diabetesMed']\r\n",
    "\r\n",
    "num_features = ['age', 'time_in_hospital', 'num_medications', 'number_outpatient',\r\n",
    "                'number_emergency', 'number_inpatient', 'requests_1', 'requests_10']\r\n",
    "\r\n",
    "y = ['readmitted']\r\n",
    "\r\n",
    "X = cat_features + num_features"
   ],
   "outputs": [],
   "metadata": {}
  },
  {
   "cell_type": "code",
   "execution_count": 27,
   "source": [
    "X_train, X_test, y_train, y_test = train_test_split(df[X], df[y], test_size=0.30, random_state=27)"
   ],
   "outputs": [],
   "metadata": {}
  },
  {
   "cell_type": "code",
   "execution_count": 5,
   "source": [
    "X_test.to_csv('../data/processed/X_test.csv')\r\n",
    "y_test.to_csv('../data/processed/y_test.csv')"
   ],
   "outputs": [],
   "metadata": {}
  },
  {
   "cell_type": "markdown",
   "source": [
    "##### **Note**: \n",
    "\n",
    "Although we'll use algorithms for predictive models where it's not necessary to scalate the features, it could be necessary for further work, for example, for regularization, optimization or if eventually I want to compare another algorithms where it's necessary to normalize the numeric features. So I always consider that is a good thing implement an scaler on the pipelines as a preprocessor."
   ],
   "metadata": {}
  },
  {
   "cell_type": "code",
   "execution_count": 29,
   "source": [
    "numeric_transformer = Pipeline(steps = [\r\n",
    "    ('imputer', SimpleImputer(strategy='median')),\r\n",
    "    ('scaler', MinMaxScaler())])\r\n",
    "\r\n",
    "categorical_transformer = Pipeline(steps = [\r\n",
    "    ('imputer', SimpleImputer(strategy='most_frequent')),\r\n",
    "    ('encoder', OneHotEncoder(handle_unknown='ignore'))\r\n",
    "])\r\n",
    "\r\n",
    "preprocessor = ColumnTransformer(\r\n",
    "    transformers = [\r\n",
    "        ('num', numeric_transformer, num_features),\r\n",
    "        ('cat', categorical_transformer, cat_features)])"
   ],
   "outputs": [],
   "metadata": {}
  },
  {
   "cell_type": "code",
   "execution_count": 30,
   "source": [
    "def metrics(y_test, y_pred):\r\n",
    "    '''Generate f1, recall, accuracy and the confusion matrix for y_test / y_pred'''\r\n",
    "    f1 = f1_score(y_test,y_pred)\r\n",
    "    rec = recall_score(y_test,y_pred)\r\n",
    "    acc = accuracy_score(y_test,y_pred)\r\n",
    "    cm = confusion_matrix(y_test, y_pred)\r\n",
    "\r\n",
    "    return f1, rec, acc, cm"
   ],
   "outputs": [],
   "metadata": {}
  },
  {
   "cell_type": "markdown",
   "source": [
    "## Logistic Regresion"
   ],
   "metadata": {}
  },
  {
   "cell_type": "code",
   "execution_count": 12,
   "source": [
    "if os.path.exists('../models/lr1.pkl'):\r\n",
    "    lr1 = joblib.load('../models/lr1.pkl')\r\n",
    "\r\n",
    "else:\r\n",
    "    lr1 = Pipeline(steps=[('preprocessor', preprocessor), ('classifier', LogisticRegression())])\r\n",
    "    lr1.fit(X_train, y_train)\r\n",
    "    joblib.dump(lr1, '../models/lr1.pkl')"
   ],
   "outputs": [],
   "metadata": {}
  },
  {
   "cell_type": "code",
   "execution_count": 13,
   "source": [
    "y_pred = lr1.predict(X_test)\r\n",
    "lr_f1, lr_rec, lr_acc, lr_cm = metrics(y_test, y_pred)"
   ],
   "outputs": [],
   "metadata": {}
  },
  {
   "cell_type": "markdown",
   "source": [
    "## Random Forest Classifier"
   ],
   "metadata": {}
  },
  {
   "cell_type": "code",
   "execution_count": 14,
   "source": [
    "if os.path.exists('../models/rf1.pkl'):\r\n",
    "    rf1 = joblib.load('../models/rf1.pkl')\r\n",
    "else:\r\n",
    "    rf1 = Pipeline(steps=[('preprocessor', preprocessor), ('classifier', RandomForestClassifier())])\r\n",
    "    rf1.fit(X_train,y_train)\r\n",
    "    joblib.dump(rf1, '../models/rf1.pkl')"
   ],
   "outputs": [],
   "metadata": {}
  },
  {
   "cell_type": "code",
   "execution_count": 15,
   "source": [
    "y_pred = rf1.predict(X_test)\r\n",
    "rf_f1, rf_rec, rf_acc, rf_cm = metrics(y_test, y_pred)"
   ],
   "outputs": [],
   "metadata": {}
  },
  {
   "cell_type": "code",
   "execution_count": 16,
   "source": [
    "fi = list(zip(X_train.columns.values, rf1.steps[1][1].feature_importances_))\r\n",
    "\r\n",
    "pd.DataFrame(columns = ['feature', 'importance'], data = fi).plot.barh(x='feature', y='importance')"
   ],
   "outputs": [
    {
     "output_type": "execute_result",
     "data": {
      "text/plain": [
       "<AxesSubplot:ylabel='feature'>"
      ]
     },
     "metadata": {},
     "execution_count": 16
    },
    {
     "output_type": "display_data",
     "data": {
      "image/png": "[encoded data removed]",
      "text/plain": [
       "<Figure size 432x288 with 1 Axes>"
      ]
     },
     "metadata": {
      "needs_background": "light"
     }
    }
   ],
   "metadata": {}
  },
  {
   "cell_type": "markdown",
   "source": [
    "## Decision Tree"
   ],
   "metadata": {}
  },
  {
   "cell_type": "code",
   "execution_count": 17,
   "source": [
    "if os.path.exists('../models/dt1.pkl'):\r\n",
    "    dt1 = joblib.load('../models/dt1.pkl')\r\n",
    "    \r\n",
    "else:    \r\n",
    "    dt1 = Pipeline(steps=[('preprocessor', preprocessor), ('classifier', DecisionTreeClassifier())])\r\n",
    "    dt1.fit(X_train,y_train)\r\n",
    "    joblib.dump(dt1, '../models/dt1.pkl')"
   ],
   "outputs": [],
   "metadata": {}
  },
  {
   "cell_type": "code",
   "execution_count": 18,
   "source": [
    "y_pred = dt1.predict(X_test)\r\n",
    "dt_f1, dt_rec, dt_acc, dt_cm = metrics(y_test, y_pred)"
   ],
   "outputs": [],
   "metadata": {}
  },
  {
   "cell_type": "code",
   "execution_count": 19,
   "source": [
    "fi = list(zip(X_train.columns.values, dt1.steps[1][1].feature_importances_))\r\n",
    "pd.DataFrame(columns = ['feature', 'importance'], data = fi).plot.barh(x='feature', y='importance')"
   ],
   "outputs": [
    {
     "output_type": "execute_result",
     "data": {
      "text/plain": [
       "<AxesSubplot:ylabel='feature'>"
      ]
     },
     "metadata": {},
     "execution_count": 19
    },
    {
     "output_type": "display_data",
     "data": {
      "image/png": "[encoded data removed]",
      "text/plain": [
       "<Figure size 432x288 with 1 Axes>"
      ]
     },
     "metadata": {
      "needs_background": "light"
     }
    }
   ],
   "metadata": {}
  },
  {
   "cell_type": "markdown",
   "source": [
    "## Neural Net"
   ],
   "metadata": {}
  },
  {
   "cell_type": "code",
   "execution_count": 20,
   "source": [
    "if os.path.exists('../models/NN.pkl'):\r\n",
    "    NN = joblib.load('../models/NN.pkl')\r\n",
    "\r\n",
    "else:\r\n",
    "    NN = Pipeline(steps=[('preprocessor', preprocessor),\r\n",
    "                        ('classifier', MLPClassifier(solver='lbfgs', alpha=1e-5, hidden_layer_sizes=(100), random_state=1))])\r\n",
    "                      \r\n",
    "    NN.fit(X_train, y_train)\r\n",
    "\r\n",
    "    joblib.dump(NN, '../models/NN.pkl')\r\n",
    "\r\n",
    "                      \r\n",
    "if os.path.exists('../models/NN2.pkl'):\r\n",
    "    NN2 = joblib.load('../models/NN2.pkl')\r\n",
    "\r\n",
    "else:    \r\n",
    "    NN2 = Pipeline(steps=[('preprocessor', preprocessor),\r\n",
    "                        ('classifier', MLPClassifier(solver='lbfgs', alpha=1e-5, hidden_layer_sizes=(10, 7, 3), random_state=1))])\r\n",
    "    \r\n",
    "    NN2.fit(X_train, y_train)\r\n",
    "\r\n",
    "    joblib.dump(NN2, '../models/NN2.pkl')"
   ],
   "outputs": [],
   "metadata": {}
  },
  {
   "cell_type": "code",
   "execution_count": 21,
   "source": [
    "y_pred = NN.predict(X_test)\r\n",
    "NN_f1, NN_rec, NN_acc, NN_cm = metrics(y_test,y_pred)\r\n",
    "\r\n",
    "y_pred = NN2.predict(X_test)\r\n",
    "NN2_f1, NN2_rec, NN2_acc, NN2_cm = metrics(y_test,y_pred)"
   ],
   "outputs": [],
   "metadata": {}
  },
  {
   "cell_type": "markdown",
   "source": [
    "### XGBoost"
   ],
   "metadata": {}
  },
  {
   "cell_type": "code",
   "execution_count": 22,
   "source": [
    "if os.path.exists('../models/xgb_pipeline.pkl'):\r\n",
    "    xgb_pipeline = joblib.load('../models/xgb_pipeline.pkl')\r\n",
    "    \r\n",
    "else:    \r\n",
    "    xgb_pipeline = Pipeline(steps=[('preprocessor', preprocessor), ('xgb_model', xgb.XGBClassifier())])\r\n",
    "    xgb_pipeline.fit(X_train, y_train)\r\n",
    "    joblib.dump(xgb_pipeline, '../models/xgb_pipeline.pkl')"
   ],
   "outputs": [
    {
     "output_type": "stream",
     "name": "stdout",
     "text": [
      "[19:19:35] WARNING: C:/Users/Administrator/workspace/xgboost-win64_release_1.4.0/src/learner.cc:1095: Starting in XGBoost 1.3.0, the default evaluation metric used with the objective 'binary:logistic' was changed from 'error' to 'logloss'. Explicitly set eval_metric if you'd like to restore the old behavior.\n"
     ]
    }
   ],
   "metadata": {}
  },
  {
   "cell_type": "code",
   "execution_count": 23,
   "source": [
    "y_pred = xgb_pipeline.predict(X_test)\r\n",
    "xgb_f1, xgb_rec, xgb_acc, xgb_cm = metrics(y_test, y_pred)"
   ],
   "outputs": [],
   "metadata": {}
  },
  {
   "cell_type": "code",
   "execution_count": 24,
   "source": [
    "fi = list(zip(X_train.columns.values, xgb_pipeline.steps[1][1].feature_importances_))\r\n",
    "pd.DataFrame(columns = ['feature', 'importance'], data = fi).plot.barh(x='feature', y='importance')"
   ],
   "outputs": [
    {
     "output_type": "execute_result",
     "data": {
      "text/plain": [
       "<AxesSubplot:ylabel='feature'>"
      ]
     },
     "metadata": {},
     "execution_count": 24
    },
    {
     "output_type": "display_data",
     "data": {
      "image/png": "[encoded data removed]",
      "text/plain": [
       "<Figure size 432x288 with 1 Axes>"
      ]
     },
     "metadata": {
      "needs_background": "light"
     }
    }
   ],
   "metadata": {}
  },
  {
   "cell_type": "markdown",
   "source": [
    "## Comparison of the models"
   ],
   "metadata": {}
  },
  {
   "cell_type": "code",
   "execution_count": 26,
   "source": [
    "data = {'Model':['LogisticRegression','RandomForest','Decision Tree', 'NN 1 Hidden Layer', 'NN 3 Hidden Layers', 'XGB'],\r\n",
    "    'Accuracy':[lr_acc,rf_acc,dt_acc, NN_acc, NN2_acc, xgb_acc], \r\n",
    "    'Recall':[lr_rec, rf_rec, dt_rec, NN_rec, NN2_rec, xgb_rec], \r\n",
    "    'F1':[lr_f1, rf_f1, dt_f1, NN_f1, NN2_f1, xgb_f1]}\r\n",
    "comp = pd.DataFrame(data)\r\n",
    "comp"
   ],
   "outputs": [
    {
     "output_type": "execute_result",
     "data": {
      "text/html": [
       "<div>\n",
       "<style scoped>\n",
       "    .dataframe tbody tr th:only-of-type {\n",
       "        vertical-align: middle;\n",
       "    }\n",
       "\n",
       "    .dataframe tbody tr th {\n",
       "        vertical-align: top;\n",
       "    }\n",
       "\n",
       "    .dataframe thead th {\n",
       "        text-align: right;\n",
       "    }\n",
       "</style>\n",
       "<table border=\"1\" class=\"dataframe\">\n",
       "  <thead>\n",
       "    <tr style=\"text-align: right;\">\n",
       "      <th></th>\n",
       "      <th>Model</th>\n",
       "      <th>Accuracy</th>\n",
       "      <th>Recall</th>\n",
       "      <th>F1</th>\n",
       "    </tr>\n",
       "  </thead>\n",
       "  <tbody>\n",
       "    <tr>\n",
       "      <th>0</th>\n",
       "      <td>LogisticRegression</td>\n",
       "      <td>0.750952</td>\n",
       "      <td>0.617468</td>\n",
       "      <td>0.698964</td>\n",
       "    </tr>\n",
       "    <tr>\n",
       "      <th>1</th>\n",
       "      <td>RandomForest</td>\n",
       "      <td>0.797457</td>\n",
       "      <td>0.747568</td>\n",
       "      <td>0.775610</td>\n",
       "    </tr>\n",
       "    <tr>\n",
       "      <th>2</th>\n",
       "      <td>Decision Tree</td>\n",
       "      <td>0.728413</td>\n",
       "      <td>0.700595</td>\n",
       "      <td>0.707245</td>\n",
       "    </tr>\n",
       "    <tr>\n",
       "      <th>3</th>\n",
       "      <td>NN 1 Hidden Layer</td>\n",
       "      <td>0.752380</td>\n",
       "      <td>0.679832</td>\n",
       "      <td>0.719975</td>\n",
       "    </tr>\n",
       "    <tr>\n",
       "      <th>4</th>\n",
       "      <td>NN 3 Hidden Layers</td>\n",
       "      <td>0.765638</td>\n",
       "      <td>0.774866</td>\n",
       "      <td>0.755878</td>\n",
       "    </tr>\n",
       "    <tr>\n",
       "      <th>5</th>\n",
       "      <td>XGB</td>\n",
       "      <td>0.807112</td>\n",
       "      <td>0.717293</td>\n",
       "      <td>0.776913</td>\n",
       "    </tr>\n",
       "  </tbody>\n",
       "</table>\n",
       "</div>"
      ],
      "text/plain": [
       "                Model  Accuracy    Recall        F1\n",
       "0  LogisticRegression  0.750952  0.617468  0.698964\n",
       "1        RandomForest  0.797457  0.747568  0.775610\n",
       "2       Decision Tree  0.728413  0.700595  0.707245\n",
       "3   NN 1 Hidden Layer  0.752380  0.679832  0.719975\n",
       "4  NN 3 Hidden Layers  0.765638  0.774866  0.755878\n",
       "5                 XGB  0.807112  0.717293  0.776913"
      ]
     },
     "metadata": {},
     "execution_count": 26
    }
   ],
   "metadata": {}
  },
  {
   "cell_type": "code",
   "execution_count": 27,
   "source": [
    "plot_roc_curve(lr1,X_test,y_test)\r\n",
    "plot_roc_curve(rf1,X_test,y_test)\r\n",
    "plot_roc_curve(dt1,X_test,y_test)\r\n",
    "plot_roc_curve(NN, X_test, y_test)\r\n",
    "plot_roc_curve(NN2, X_test, y_test)\r\n",
    "plot_roc_curve(xgb_pipeline, X_test, y_test)"
   ],
   "outputs": [
    {
     "output_type": "execute_result",
     "data": {
      "text/plain": [
       "<sklearn.metrics._plot.roc_curve.RocCurveDisplay at 0x1ea03f8df40>"
      ]
     },
     "metadata": {},
     "execution_count": 27
    },
    {
     "output_type": "display_data",
     "data": {
      "image/png": "[encoded data removed]",
      "text/plain": [
       "<Figure size 432x288 with 1 Axes>"
      ]
     },
     "metadata": {
      "needs_background": "light"
     }
    },
    {
     "output_type": "display_data",
     "data": {
      "image/png": "[encoded data removed]",
      "text/plain": [
       "<Figure size 432x288 with 1 Axes>"
      ]
     },
     "metadata": {
      "needs_background": "light"
     }
    },
    {
     "output_type": "display_data",
     "data": {
      "image/png": "[encoded data removed]",
      "text/plain": [
       "<Figure size 432x288 with 1 Axes>"
      ]
     },
     "metadata": {
      "needs_background": "light"
     }
    },
    {
     "output_type": "display_data",
     "data": {
      "image/png": "[encoded data removed]",
      "text/plain": [
       "<Figure size 432x288 with 1 Axes>"
      ]
     },
     "metadata": {
      "needs_background": "light"
     }
    },
    {
     "output_type": "display_data",
     "data": {
      "image/png": "[encoded data removed]",
      "text/plain": [
       "<Figure size 432x288 with 1 Axes>"
      ]
     },
     "metadata": {
      "needs_background": "light"
     }
    },
    {
     "output_type": "display_data",
     "data": {
      "image/png": "[encoded data removed]",
      "text/plain": [
       "<Figure size 432x288 with 1 Axes>"
      ]
     },
     "metadata": {
      "needs_background": "light"
     }
    }
   ],
   "metadata": {}
  },
  {
   "cell_type": "markdown",
   "source": [
    "#### Conclusion: The best of the proposed model for comparison was the Random Forest Classifier. It was the best on the overall metrics, but also it has the best ROC Curve and the best numbers on the confusion matrix. I'll select this model to perform hyperparameter tunning."
   ],
   "metadata": {}
  },
  {
   "cell_type": "markdown",
   "source": [
    "## Hyperparameter tunning"
   ],
   "metadata": {}
  },
  {
   "cell_type": "code",
   "execution_count": null,
   "source": [
    "parameters = {\r\n",
    "  'n_estimators':[1,10,100,1000],\r\n",
    "  'min_samples_split': [2,3,4,5]\r\n",
    "  }\r\n",
    "\r\n",
    "rf2 = Pipeline(steps=[('preprocessor', preprocessor),\r\n",
    "                      ('classifier', GridSearchCV(RandomForestClassifier(),parameters,cv=2,refit=True))])\r\n",
    "rf2.fit(X_train,y_train)"
   ],
   "outputs": [],
   "metadata": {}
  },
  {
   "cell_type": "code",
   "execution_count": null,
   "source": [
    "y_pred = rf2.predict(X_test)\r\n",
    "rf2_f1, rf2_rec, rf2_acc, rf2_cm = metrics(y_test,y_pred)"
   ],
   "outputs": [],
   "metadata": {}
  },
  {
   "cell_type": "code",
   "execution_count": null,
   "source": [
    "data = {'Model':['Best RF'],\r\n",
    "    'Accuracy':[rf2_acc], \r\n",
    "    'Recall':[rf2_rec], \r\n",
    "    'F1':[rf2_f1]}\r\n",
    "pd.DataFrame(data)"
   ],
   "outputs": [],
   "metadata": {}
  },
  {
   "cell_type": "code",
   "execution_count": null,
   "source": [
    "import joblib\r\n",
    "\r\n",
    "joblib.dump(rf2,'../models/best.pkl')"
   ],
   "outputs": [],
   "metadata": {}
  },
  {
   "cell_type": "markdown",
   "source": [
    "# Retomando el problema multiclase"
   ],
   "metadata": {}
  },
  {
   "cell_type": "code",
   "execution_count": 13,
   "source": [
    "original = pd.read_csv('../data/raw/diabetic_data.csv')"
   ],
   "outputs": [],
   "metadata": {}
  },
  {
   "cell_type": "code",
   "execution_count": 20,
   "source": [
    "df = df.join(original['readmitted'], how='left', rsuffix='_original')\r\n",
    "df['readmitted_original'] = df['readmitted_original'].astype('category')"
   ],
   "outputs": [],
   "metadata": {}
  },
  {
   "cell_type": "code",
   "execution_count": 31,
   "source": [
    "y = ['readmitted_original']"
   ],
   "outputs": [],
   "metadata": {}
  },
  {
   "cell_type": "code",
   "execution_count": 32,
   "source": [
    "X_train, X_test, y_train, y_test = train_test_split(df[X], df[y], test_size=0.30, random_state=27)"
   ],
   "outputs": [],
   "metadata": {}
  },
  {
   "cell_type": "code",
   "execution_count": 42,
   "source": [
    "def metrics2(y_test, y_pred):\r\n",
    "    '''Generate f1, recall, accuracy and the confusion matrix for y_test / y_pred'''\r\n",
    "    f1 = f1_score(y_test,y_pred, average='weighted')\r\n",
    "    rec = recall_score(y_test,y_pred, average='weighted')\r\n",
    "    acc = accuracy_score(y_test,y_pred)\r\n",
    "    cm = confusion_matrix(y_test, y_pred)\r\n",
    "\r\n",
    "    return f1, rec, acc, cm"
   ],
   "outputs": [],
   "metadata": {}
  },
  {
   "cell_type": "markdown",
   "source": [
    "## Logistic Regression Multiclase"
   ],
   "metadata": {}
  },
  {
   "cell_type": "code",
   "execution_count": 35,
   "source": [
    "if os.path.exists('../models/lr2.pkl'):\r\n",
    "    lr2 = joblib.load('../models/lr2.pkl')\r\n",
    "\r\n",
    "else:\r\n",
    "    lr2 = Pipeline(steps=[('preprocessor', preprocessor), ('classifier', LogisticRegression())])\r\n",
    "    lr2.fit(X_train, y_train)\r\n",
    "    joblib.dump(lr2, '../models/lr2.pkl')"
   ],
   "outputs": [],
   "metadata": {}
  },
  {
   "cell_type": "code",
   "execution_count": 43,
   "source": [
    "y_pred = lr2.predict(X_test)\r\n",
    "lr2_f1, lr2_rec, lr2_acc, l2r_cm = metrics2(y_test, y_pred)"
   ],
   "outputs": [],
   "metadata": {}
  },
  {
   "cell_type": "markdown",
   "source": [
    "## Random Forest Multiclase"
   ],
   "metadata": {}
  },
  {
   "cell_type": "code",
   "execution_count": 47,
   "source": [
    "if os.path.exists('../models/rf2.pkl'):\r\n",
    "    rf2 = joblib.load('../models/rf2.pkl')\r\n",
    "else:\r\n",
    "    rf2 = Pipeline(steps=[('preprocessor', preprocessor), ('classifier', RandomForestClassifier())])\r\n",
    "    rf2.fit(X_train,y_train)\r\n",
    "    joblib.dump(rf2, '../models/rf2.pkl')"
   ],
   "outputs": [],
   "metadata": {}
  },
  {
   "cell_type": "code",
   "execution_count": 49,
   "source": [
    "y_pred = rf2.predict(X_test)\r\n",
    "rf2_f1, rf2_rec, rf2_acc, rf2_cm = metrics2(y_test, y_pred)"
   ],
   "outputs": [],
   "metadata": {}
  },
  {
   "cell_type": "markdown",
   "source": [
    "## Decision Tree"
   ],
   "metadata": {}
  },
  {
   "cell_type": "code",
   "execution_count": 50,
   "source": [
    "if os.path.exists('../models/dt2.pkl'):\r\n",
    "    dt2 = joblib.load('../models/dt2.pkl')\r\n",
    "    \r\n",
    "else:    \r\n",
    "    dt2 = Pipeline(steps=[('preprocessor', preprocessor), ('classifier', DecisionTreeClassifier())])\r\n",
    "    dt2.fit(X_train,y_train)\r\n",
    "    joblib.dump(dt2, '../models/dt2.pkl')"
   ],
   "outputs": [],
   "metadata": {}
  },
  {
   "cell_type": "code",
   "execution_count": 51,
   "source": [
    "y_pred = dt2.predict(X_test)\r\n",
    "dt2_f1, dt2_rec, dt2_acc, dt2_cm = metrics2(y_test, y_pred)"
   ],
   "outputs": [],
   "metadata": {}
  },
  {
   "cell_type": "markdown",
   "source": [
    "## XGBoost Multiclase"
   ],
   "metadata": {}
  },
  {
   "cell_type": "code",
   "execution_count": 52,
   "source": [
    "if os.path.exists('../models/xgb2_pipeline.pkl'):\r\n",
    "    xgb2_pipeline = joblib.load('../models/xgb2_pipeline.pkl')\r\n",
    "    \r\n",
    "else:    \r\n",
    "    xgb2_pipeline = Pipeline(steps=[('preprocessor', preprocessor), ('xgb_model', xgb.XGBClassifier())])\r\n",
    "    xgb2_pipeline.fit(X_train, y_train)\r\n",
    "    joblib.dump(xgb2_pipeline, '../models/xgb2_pipeline.pkl')"
   ],
   "outputs": [
    {
     "output_type": "stream",
     "name": "stdout",
     "text": [
      "[11:41:31] WARNING: C:/Users/Administrator/workspace/xgboost-win64_release_1.4.0/src/learner.cc:1095: Starting in XGBoost 1.3.0, the default evaluation metric used with the objective 'multi:softprob' was changed from 'merror' to 'mlogloss'. Explicitly set eval_metric if you'd like to restore the old behavior.\n"
     ]
    }
   ],
   "metadata": {}
  },
  {
   "cell_type": "code",
   "execution_count": 53,
   "source": [
    "y_pred = xgb2_pipeline.predict(X_test)\r\n",
    "xgb2_f1, xgb2_rec, xgb2_acc, xgb2_cm = metrics2(y_test, y_pred)"
   ],
   "outputs": [],
   "metadata": {}
  },
  {
   "cell_type": "markdown",
   "source": [
    "## Neuralnet Multiclase"
   ],
   "metadata": {}
  },
  {
   "cell_type": "code",
   "execution_count": 58,
   "source": [
    "if os.path.exists('../models/NN_b.pkl'):\r\n",
    "    NN_b = joblib.load('../models/NN_b.pkl')\r\n",
    "\r\n",
    "else:\r\n",
    "    NN_b = Pipeline(steps=[('preprocessor', preprocessor),\r\n",
    "                        ('classifier', MLPClassifier(solver='lbfgs', alpha=1e-5, hidden_layer_sizes=(100), random_state=1))])\r\n",
    "                      \r\n",
    "    NN_b.fit(X_train, y_train)\r\n",
    "\r\n",
    "    joblib.dump(NN_b, '../models/NN_b.pkl')\r\n",
    "\r\n",
    "                      \r\n",
    "if os.path.exists('../models/NN2_b.pkl'):\r\n",
    "    NN2_b = joblib.load('../models/NN2_b.pkl')\r\n",
    "\r\n",
    "else:    \r\n",
    "    NN2_b = Pipeline(steps=[('preprocessor', preprocessor),\r\n",
    "                        ('classifier', MLPClassifier(solver='lbfgs', alpha=1e-5, hidden_layer_sizes=(10, 7, 3), random_state=1))])\r\n",
    "    \r\n",
    "    NN2_b.fit(X_train, y_train)\r\n",
    "\r\n",
    "    joblib.dump(NN2_b, '../models/NN2_b.pkl')"
   ],
   "outputs": [],
   "metadata": {}
  },
  {
   "cell_type": "code",
   "execution_count": 60,
   "source": [
    "y_pred = NN_b.predict(X_test)\r\n",
    "NN_b_f1, NN_b_rec, NN_b_acc, NN_b_cm = metrics2(y_test,y_pred)\r\n",
    "\r\n",
    "y_pred = NN2_b.predict(X_test)\r\n",
    "NN2_b_f1, NN2_b_rec, NN2_b_acc, NN2_b_cm = metrics2(y_test,y_pred)"
   ],
   "outputs": [],
   "metadata": {}
  },
  {
   "cell_type": "markdown",
   "source": [
    "## Metrics"
   ],
   "metadata": {}
  },
  {
   "cell_type": "code",
   "execution_count": 61,
   "source": [
    "data = {'Model':['LogisticRegression','RandomForest','Decision Tree', 'XGB', 'NN 1 Hidden Layer', 'NN 3 Hidden Layers'],\r\n",
    "    'Accuracy':[lr2_acc,rf2_acc,dt2_acc,  xgb2_acc, NN_b_acc, NN_b_acc], \r\n",
    "    'Recall':[lr2_rec, rf2_rec, dt2_rec,  xgb2_rec, NN_b_rec, NN_b_rec], \r\n",
    "    'F1':[lr2_f1, rf2_f1, dt2_f1, xgb2_f1, NN_b_f1, NN_b_f1]}\r\n",
    "comp = pd.DataFrame(data)\r\n",
    "comp"
   ],
   "outputs": [
    {
     "output_type": "execute_result",
     "data": {
      "text/html": [
       "<div>\n",
       "<style scoped>\n",
       "    .dataframe tbody tr th:only-of-type {\n",
       "        vertical-align: middle;\n",
       "    }\n",
       "\n",
       "    .dataframe tbody tr th {\n",
       "        vertical-align: top;\n",
       "    }\n",
       "\n",
       "    .dataframe thead th {\n",
       "        text-align: right;\n",
       "    }\n",
       "</style>\n",
       "<table border=\"1\" class=\"dataframe\">\n",
       "  <thead>\n",
       "    <tr style=\"text-align: right;\">\n",
       "      <th></th>\n",
       "      <th>Model</th>\n",
       "      <th>Accuracy</th>\n",
       "      <th>Recall</th>\n",
       "      <th>F1</th>\n",
       "    </tr>\n",
       "  </thead>\n",
       "  <tbody>\n",
       "    <tr>\n",
       "      <th>0</th>\n",
       "      <td>LogisticRegression</td>\n",
       "      <td>0.667154</td>\n",
       "      <td>0.667154</td>\n",
       "      <td>0.623715</td>\n",
       "    </tr>\n",
       "    <tr>\n",
       "      <th>1</th>\n",
       "      <td>RandomForest</td>\n",
       "      <td>0.707982</td>\n",
       "      <td>0.707982</td>\n",
       "      <td>0.668345</td>\n",
       "    </tr>\n",
       "    <tr>\n",
       "      <th>2</th>\n",
       "      <td>Decision Tree</td>\n",
       "      <td>0.621057</td>\n",
       "      <td>0.621057</td>\n",
       "      <td>0.616291</td>\n",
       "    </tr>\n",
       "    <tr>\n",
       "      <th>3</th>\n",
       "      <td>XGB</td>\n",
       "      <td>0.719404</td>\n",
       "      <td>0.719404</td>\n",
       "      <td>0.683599</td>\n",
       "    </tr>\n",
       "    <tr>\n",
       "      <th>4</th>\n",
       "      <td>NN 1 Hidden Layer</td>\n",
       "      <td>0.672423</td>\n",
       "      <td>0.672423</td>\n",
       "      <td>0.642421</td>\n",
       "    </tr>\n",
       "    <tr>\n",
       "      <th>5</th>\n",
       "      <td>NN 3 Hidden Layers</td>\n",
       "      <td>0.672423</td>\n",
       "      <td>0.672423</td>\n",
       "      <td>0.642421</td>\n",
       "    </tr>\n",
       "  </tbody>\n",
       "</table>\n",
       "</div>"
      ],
      "text/plain": [
       "                Model  Accuracy    Recall        F1\n",
       "0  LogisticRegression  0.667154  0.667154  0.623715\n",
       "1        RandomForest  0.707982  0.707982  0.668345\n",
       "2       Decision Tree  0.621057  0.621057  0.616291\n",
       "3                 XGB  0.719404  0.719404  0.683599\n",
       "4   NN 1 Hidden Layer  0.672423  0.672423  0.642421\n",
       "5  NN 3 Hidden Layers  0.672423  0.672423  0.642421"
      ]
     },
     "metadata": {},
     "execution_count": 61
    }
   ],
   "metadata": {}
  }
 ],
 "metadata": {
  "interpreter": {
   "hash": "2abdedea1081afcb4940f966d231864721381b82e49e71e55ad9ab5a3cdc2e51"
  },
  "kernelspec": {
   "name": "python3",
   "display_name": "Python 3.8.8 64-bit ('base': conda)"
  },
  "language_info": {
   "codemirror_mode": {
    "name": "ipython",
    "version": 3
   },
   "file_extension": ".py",
   "mimetype": "text/x-python",
   "name": "python",
   "nbconvert_exporter": "python",
   "pygments_lexer": "ipython3",
   "version": "3.8.8"
  }
 },
 "nbformat": 4,
 "nbformat_minor": 2
}